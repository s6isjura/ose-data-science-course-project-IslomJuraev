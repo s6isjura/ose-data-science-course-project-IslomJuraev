{
 "cells": [
  {
   "cell_type": "markdown",
   "metadata": {},
   "source": [
    "# Replication of Gonzalez, Robert M. (2021): Cell Phone Access and Election Fraud: Evidence from a Spatial Regression Discontinuity Design in Afghanistan."
   ]
  },
  {
   "cell_type": "markdown",
   "metadata": {},
   "source": [
    "Project by Islom Juraev, Summer 2021"
   ]
  },
  {
   "cell_type": "markdown",
   "metadata": {},
   "source": [
    "# Main motivation\n",
    "\n",
    "Emerging countries confront with electoral fraud. \n",
    "\n",
    "According to the theory mobile phone access can deter corrupt behavior by facilitating\n",
    "\n",
    "In analysis of causal effects of introducing the policy instrument that to reduce the crime or combat corruption there might appear the potential problems with detering the effects of those \n",
    "\n",
    "reverse causality (Does trade increase income?), simultaneouty (Does police reduce crime?)\n",
    "\n",
    "Researchers should show the "
   ]
  },
  {
   "cell_type": "markdown",
   "metadata": {},
   "source": [
    "# Roadmap of project\n",
    "I replicate the main results of Section II and omit Section III. Section III of this paper explores the coverage-fraud channel and this analysis is out of the scope of my project. Section II has 7 tables and 6 figures except appendix materials. I replicate the all tables and figures of Section II by extending and adjusting them. Numbering tables and figures don't follow the numbering order of the original paper. This project highly follows the empirical approach and key findings of the Gonzalez (2021). \n",
    "\n",
    "Project consists of the following parts:\n",
    "\n",
    "### 1. Introduction\n",
    "### 2. 2009 Afghan Election and Recount\n",
    "### 3. Identification and Empirical Approach\n",
    "###### 3.1. Measuring of the Fraud\n",
    "###### 3.2. Characteristics of Polling Centers\n",
    "###### 3.3. Regression Discontuinity Design (RDD)\n",
    "###### 3.4. Validity of RDD\n",
    "### 4. Results\n",
    "### 5. Extentions\n",
    "### 6. Further Research Directions on the Effect of Cell Phone Coverage on Election Fraud in Afghanistan\n",
    "### 7. Conclusion\n",
    "### Appendix\n",
    "### Bibliography\n"
   ]
  },
  {
   "cell_type": "code",
   "execution_count": 20,
   "metadata": {},
   "outputs": [],
   "source": [
    "# Required packeges \n",
    "library(foreign)\n",
    "library(haven)\n",
    "library(ggplot2)\n",
    "library(devtools)\n",
    "library(dplyr)\n",
    "library(cluster)\n",
    "library(RStata)\n",
    "library(plm)\n",
    "library(lmtest)\n",
    "library(sandwich)\n",
    "library(stargazer)\n",
    "library(rdrobust)\n",
    "library(repr)\n",
    "library(IRdisplay)"
    "library(lsmeans)"
    "library(estimatr)"
   ]
  },
  {
   "cell_type": "markdown",
   "metadata": {},
   "source": [
    "# 1. Introduction"
   ]
  },
  {
   "cell_type": "markdown",
   "metadata": {},
   "source": [
    "Research on combating against corrupt behavior shows that cell phone access (internet access) reduces the corrupt cases in all spheres of human activity by improving the transparency and transfering the information to the citizens. However, the speed of development in technology and the impact of technology on combating corruption has not been moving at the same space. Gonzalez (2021) provides an evidence that cell phone access deters corrupt bahvior. To be more precise he investagets the impact of cell phone access on election fraud in 2009 Afghan presedential election by exploiting geographic variations in the exposure of polling centers to cell phone coverage. Author uses spatial regression discontinuity design (RDD) to estimate the causal impact of cell phone access on Afghan Election. RDD compares fraud levels for polling centers whithin a close distance of the two-dimensional boundary formed between coverage and noncoverage areas. Results show that cell phone coverage reduces election fraud. "
   ]
  },
  {
   "cell_type": "markdown",
   "metadata": {},
   "source": [
    "# 2. 2009 Afghan Election and Recount"
   ]
  },
  {
   "cell_type": "markdown",
   "metadata": {},
   "source": [
    "According to the 2001 Bonn Agreement, Afghan presidential and parliamentary elections were scheduled to be held in 2004. First presidential election was held in 2004 but during the election fraud allegations were observed. After this incident, Electoral Complaints Commission (ECC) was created to investigate fraud-related complaints for the upcoming 2009 Afghan presidential election. ECC created a formal channel for individuals to report electoral complaints. In addition, ECC has power to audit, recount and run off the elections if ECC finds it necessary. Excutive board of ECC consists of 5 members and to improve transparency and guarantee the independence of ECC 3 of them were internationl experts who appointed by the United Nations and 2 of them were Afghan commissioners who selected from the Afghanistan Independent Human Rights Commission and the Supreme Court.\n",
    "\n",
    "Fraud allegations were widespread during the 2009 Afghan election. ECC received more than 3300 complaints which 80 percent of those complaints were recieved during the polling and counting period. According to the type of complaints, 47 percent was about polling and counting irregularities, 26 percent was about intimidation and violance, 11 percent was about the access to the polling station, 4 percent was about missing election materials at the centre and 12 percent about the other types of complaints. Citizen participation in 2009 election shows a better improvment comparing 2004 presidential election due to the formal channel.\n",
    "\n",
    "ECC ordered a nationwide audit of polling stations after investigations of the received complaints revealed clear evidence of widespread fraud. ECC defined six categories (look at the Appendix 1) of auding and recounting the polling stations. However, author combined these six categories into three categories. Criteria of auding and recounting the polling stations were: (i) stations in which 600 or more votes were cast, (ii) stations in which on candidate received 95 percent or more of the total vote cast, and (iii) stations satisfying both (i) and (ii). ECC denoted these categories as Category A, B and C, respectively.\n",
    "\n",
    "To visualize the election fraud, author uses ***temp_figure_votes.dta*** which consists of 23730 polling stations with 74 variables. The variable ***votes16*** is for total votes received by Hamid Karzai and ***votes9*** is for total votes received by Abdullah Abdullah."
   ]
  },
  {
   "cell_type": "code",
   "execution_count": 21,
   "metadata": {},
   "outputs": [
    {
     "data": {
      "text/html": [
       "<table>\n",
       "<thead><tr><th scope=col>station_id</th><th scope=col>votes1</th><th scope=col>votes2</th><th scope=col>votes3</th><th scope=col>votes4</th><th scope=col>votes5</th><th scope=col>votes6</th><th scope=col>votes7</th><th scope=col>votes8</th><th scope=col>votes9</th><th scope=col>...</th><th scope=col>v_23</th><th scope=col>v_24</th><th scope=col>v_25</th><th scope=col>v_26</th><th scope=col>v_27</th><th scope=col>v_28</th><th scope=col>v_29</th><th scope=col>v_30</th><th scope=col>v_31</th><th scope=col>v_32</th></tr></thead>\n",
       "<tbody>\n",
       "\t<tr><td>10100101</td><td>0       </td><td>0       </td><td>1       </td><td>0       </td><td>0       </td><td>1       </td><td>0       </td><td>0       </td><td>34      </td><td>...     </td><td>1       </td><td>0       </td><td>1       </td><td>0       </td><td>9       </td><td>0       </td><td>3       </td><td>3       </td><td>0       </td><td>0       </td></tr>\n",
       "\t<tr><td>10100102</td><td>0       </td><td>0       </td><td>0       </td><td>0       </td><td>0       </td><td>3       </td><td>0       </td><td>0       </td><td>18      </td><td>...     </td><td>1       </td><td>0       </td><td>1       </td><td>0       </td><td>9       </td><td>0       </td><td>3       </td><td>3       </td><td>0       </td><td>0       </td></tr>\n",
       "\t<tr><td>10100103</td><td>0       </td><td>0       </td><td>0       </td><td>0       </td><td>0       </td><td>1       </td><td>0       </td><td>0       </td><td>10      </td><td>...     </td><td>1       </td><td>0       </td><td>1       </td><td>0       </td><td>9       </td><td>0       </td><td>3       </td><td>3       </td><td>0       </td><td>0       </td></tr>\n",
       "\t<tr><td>10100104</td><td>0       </td><td>0       </td><td>0       </td><td>0       </td><td>0       </td><td>2       </td><td>0       </td><td>0       </td><td>26      </td><td>...     </td><td>1       </td><td>0       </td><td>1       </td><td>0       </td><td>9       </td><td>0       </td><td>3       </td><td>3       </td><td>0       </td><td>0       </td></tr>\n",
       "\t<tr><td>10100105</td><td>0       </td><td>0       </td><td>0       </td><td>0       </td><td>0       </td><td>1       </td><td>0       </td><td>0       </td><td>15      </td><td>...     </td><td>1       </td><td>0       </td><td>1       </td><td>0       </td><td>9       </td><td>0       </td><td>3       </td><td>3       </td><td>0       </td><td>0       </td></tr>\n",
       "\t<tr><td>10100106</td><td>0       </td><td>0       </td><td>0       </td><td>0       </td><td>0       </td><td>0       </td><td>0       </td><td>0       </td><td> 3      </td><td>...     </td><td>1       </td><td>0       </td><td>1       </td><td>0       </td><td>9       </td><td>0       </td><td>3       </td><td>3       </td><td>0       </td><td>0       </td></tr>\n",
       "</tbody>\n",
       "</table>\n"
      ],
      "text/latex": [
       "\\begin{tabular}{r|llllllllllllllllllllllllllllllllllllllllllllllllllllllllllllllllllllllllll}\n",
       " station\\_id & votes1 & votes2 & votes3 & votes4 & votes5 & votes6 & votes7 & votes8 & votes9 & ... & v\\_23 & v\\_24 & v\\_25 & v\\_26 & v\\_27 & v\\_28 & v\\_29 & v\\_30 & v\\_31 & v\\_32\\\\\n",
       "\\hline\n",
       "\t 10100101 & 0        & 0        & 1        & 0        & 0        & 1        & 0        & 0        & 34       & ...      & 1        & 0        & 1        & 0        & 9        & 0        & 3        & 3        & 0        & 0       \\\\\n",
       "\t 10100102 & 0        & 0        & 0        & 0        & 0        & 3        & 0        & 0        & 18       & ...      & 1        & 0        & 1        & 0        & 9        & 0        & 3        & 3        & 0        & 0       \\\\\n",
       "\t 10100103 & 0        & 0        & 0        & 0        & 0        & 1        & 0        & 0        & 10       & ...      & 1        & 0        & 1        & 0        & 9        & 0        & 3        & 3        & 0        & 0       \\\\\n",
       "\t 10100104 & 0        & 0        & 0        & 0        & 0        & 2        & 0        & 0        & 26       & ...      & 1        & 0        & 1        & 0        & 9        & 0        & 3        & 3        & 0        & 0       \\\\\n",
       "\t 10100105 & 0        & 0        & 0        & 0        & 0        & 1        & 0        & 0        & 15       & ...      & 1        & 0        & 1        & 0        & 9        & 0        & 3        & 3        & 0        & 0       \\\\\n",
       "\t 10100106 & 0        & 0        & 0        & 0        & 0        & 0        & 0        & 0        &  3       & ...      & 1        & 0        & 1        & 0        & 9        & 0        & 3        & 3        & 0        & 0       \\\\\n",
       "\\end{tabular}\n"
      ],
      "text/markdown": [
       "\n",
       "| station_id | votes1 | votes2 | votes3 | votes4 | votes5 | votes6 | votes7 | votes8 | votes9 | ... | v_23 | v_24 | v_25 | v_26 | v_27 | v_28 | v_29 | v_30 | v_31 | v_32 |\n",
       "|---|---|---|---|---|---|---|---|---|---|---|---|---|---|---|---|---|---|---|---|---|\n",
       "| 10100101 | 0        | 0        | 1        | 0        | 0        | 1        | 0        | 0        | 34       | ...      | 1        | 0        | 1        | 0        | 9        | 0        | 3        | 3        | 0        | 0        |\n",
       "| 10100102 | 0        | 0        | 0        | 0        | 0        | 3        | 0        | 0        | 18       | ...      | 1        | 0        | 1        | 0        | 9        | 0        | 3        | 3        | 0        | 0        |\n",
       "| 10100103 | 0        | 0        | 0        | 0        | 0        | 1        | 0        | 0        | 10       | ...      | 1        | 0        | 1        | 0        | 9        | 0        | 3        | 3        | 0        | 0        |\n",
       "| 10100104 | 0        | 0        | 0        | 0        | 0        | 2        | 0        | 0        | 26       | ...      | 1        | 0        | 1        | 0        | 9        | 0        | 3        | 3        | 0        | 0        |\n",
       "| 10100105 | 0        | 0        | 0        | 0        | 0        | 1        | 0        | 0        | 15       | ...      | 1        | 0        | 1        | 0        | 9        | 0        | 3        | 3        | 0        | 0        |\n",
       "| 10100106 | 0        | 0        | 0        | 0        | 0        | 0        | 0        | 0        |  3       | ...      | 1        | 0        | 1        | 0        | 9        | 0        | 3        | 3        | 0        | 0        |\n",
       "\n"
      ],
      "text/plain": [
       "  station_id votes1 votes2 votes3 votes4 votes5 votes6 votes7 votes8 votes9 ...\n",
       "1 10100101   0      0      1      0      0      1      0      0      34     ...\n",
       "2 10100102   0      0      0      0      0      3      0      0      18     ...\n",
       "3 10100103   0      0      0      0      0      1      0      0      10     ...\n",
       "4 10100104   0      0      0      0      0      2      0      0      26     ...\n",
       "5 10100105   0      0      0      0      0      1      0      0      15     ...\n",
       "6 10100106   0      0      0      0      0      0      0      0       3     ...\n",
       "  v_23 v_24 v_25 v_26 v_27 v_28 v_29 v_30 v_31 v_32\n",
       "1 1    0    1    0    9    0    3    3    0    0   \n",
       "2 1    0    1    0    9    0    3    3    0    0   \n",
       "3 1    0    1    0    9    0    3    3    0    0   \n",
       "4 1    0    1    0    9    0    3    3    0    0   \n",
       "5 1    0    1    0    9    0    3    3    0    0   \n",
       "6 1    0    1    0    9    0    3    3    0    0   "
      ]
     },
     "metadata": {},
     "output_type": "display_data"
    },
    {
     "data": {
      "text/html": [
       "<ol class=list-inline>\n",
       "\t<li>23730</li>\n",
       "\t<li>74</li>\n",
       "</ol>\n"
      ],
      "text/latex": [
       "\\begin{enumerate*}\n",
       "\\item 23730\n",
       "\\item 74\n",
       "\\end{enumerate*}\n"
      ],
      "text/markdown": [
       "1. 23730\n",
       "2. 74\n",
       "\n",
       "\n"
      ],
      "text/plain": [
       "[1] 23730    74"
      ]
     },
     "metadata": {},
     "output_type": "display_data"
    }
   ],
   "source": [
    "mydata <- read_dta(\"D://Term_paper_ME//Initial_Data//18_Afghanistan//temp_figure_votes.dta\")\n",
    "head(mydata)\n",
    "dim(mydata)"
   ]
  },
  {
   "cell_type": "markdown",
   "metadata": {},
   "source": [
    "The main motivation for these categories lay in the designing of the election. Each polling stations managers were provided with a ballot book containing exactly 600 empty ballots. However, a significant number of polling stations reported totals of exactly 600 or more votes cast. This was unusual given the overall low turnout resulting from expectations around election related violance (Khadhouri 2010). Figure 1 shows the difference in reported turnout by plotting a histogram of total votes cast per station for the top two candidates. Significant jump in the frequency of total votes cast was at exactly 600 for the candidate Hamid Karzai. One more interesting fact is that frequency of total votes cast are available more than 600 which contradicts one of the main design of election."
   ]
  },
  {
   "cell_type": "code",
   "execution_count": 22,
   "metadata": {},
   "outputs": [
    {
     "data": {
      "image/png": "iVBORw0KGgoAAAANSUhEUgAACWAAAAYYCAMAAAAqqgMZAAAANlBMVEUAAAAA/wBNTU1oaGh8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",
      "text/plain": [
       "Plot with title \"Figure 1: Histogram of total votes per polling station\""
      ]
     },
     "metadata": {},
     "output_type": "display_data"
    }
   ],
   "source": [
    "hist(mydata[mydata$votes16>0,]$votes16, freq=NULL, col=\"green\", \n",
    "     main=paste(\"Figure 1: Histogram of total votes per polling station\"), \n",
    "     breaks=150, xlim=c(0,1000), ylim=c(0,2000),\n",
    "     xlab=\"Total votes per polling station\") # Greein is Karzai\n",
    "\n",
    "hist(mydata[mydata$votes9>0,]$votes9,freq=NULL, col=\"red\", \n",
    "     main=paste(\"Figure 1: Histogram of total votes  polling station\"), \n",
    "     breaks=150, xlim=c(0,1000), ylim=c(0,2000),\n",
    "     xlab=\"Total votes per polling station\", add=TRUE) # Red is Abdullah\n",
    "\n",
    "legend('topright', c('Karzai', 'Abdullah'), fill=c('green', 'red'))"
   ]
  },
  {
   "cell_type": "markdown",
   "metadata": {},
   "source": [
    "Moreover, the incidence of stations where a candidate received more than 95 percent of the total vote share was equally unusual. Figure 2 shows that a substantially high number of stations (with more than 100 total vote cast) had exactly 100 percent vote share for single candidate (particularly Karzai)."
   ]
  },
  {
   "cell_type": "code",
   "execution_count": 23,
   "metadata": {},
   "outputs": [
    {
     "data": {
      "image/png": "iVBORw0KGgoAAAANSUhEUgAACWAAAAYYCAMAAAAqqgMZAAAANlBMVEUAAAAA/wBNTU1oaGh8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\nAAAAAElFTkSuQmCC",
      "text/plain": [
       "Plot with title \"Figure 2: Histogram of total votes per polling station\""
      ]
     },
     "metadata": {},
     "output_type": "display_data"
    }
   ],
   "source": [
    "mydata$total_votes <- rowSums(mydata[,2:33])\n",
    "mydata$pc_votes16 <- (mydata$votes16/mydata$total_votes)\n",
    "mydata$pc_votes9 <- (mydata$votes9/mydata$total_votes)\n",
    "\n",
    "hist(mydata[mydata$pc_votes16>0 & mydata$total_votes>=100,]$pc_votes16, freq=NULL, col=\"green\", \n",
    "     main=paste(\"Figure 2: Histogram of total votes per polling station\"), \n",
    "     breaks=100, xlim=c(0,1), ylim=c(0,1500),\n",
    "     xlab=\"Percentage of votes received by candidates\") # Greein is Karzai\n",
    "\n",
    "hist(mydata[mydata$pc_votes9>0 & mydata$total_votes>=100,]$pc_votes9,freq=NULL, col=\"red\", \n",
    "     main=paste(\"Figure 2: Histogram of total votes  polling station\"), \n",
    "     breaks=100, xlim=c(0,1), ylim=c(0,1500),\n",
    "     xlab=\"Percentage of votes received by candidates\", add=TRUE) # Red is Abdullah\n",
    "\n",
    "legend('top', c('Karzai', 'Abdullah'), fill=c('green', 'red'))"
   ]
  },
  {
   "cell_type": "markdown",
   "metadata": {},
   "source": [
    "ECC classified 3376 stations or nearly 15 percent of all stations as potentially fraudlent. ECC performed a partial audit of all suspected stations in order to determine whether runoff election is needed or not. To save time and to be less costly ECC randomly selected 10 percent of the qualifying stations for a detailed investigation. ECC created a \"fraud coefficient\" for each of the three categories mentioned above. Fraud coefficients are the percentage of votes to be fraudlent out of the total votes inspected within the category.\n",
    "\n",
    "Two months after election day, ECC released the results of the audit by eliminating the suspected votes from the count. Hamid Karzai's vote share dropped from 54.6 to 49.67 percent, while the vote share of his main opponent, Abdullah Abdullah, went from 27.8 to 30.59 percent. According to the results, ECC ordered an immediate runoff election. However, runoff election did not happen, because the main candidate Abdullah withdrew his candidacy from the race."
   ]
  },
  {
   "cell_type": "markdown",
   "metadata": {},
   "source": [
    "# 3. Identification and Empirical Approach"
   ]
  },
  {
   "cell_type": "markdown",
   "metadata": {},
   "source": [
    "### 3.1. Measuring of the Fraud"
   ]
  },
  {
   "cell_type": "markdown",
   "metadata": {},
   "source": [
    "Gonzalez uses the list of polling stations that were subject to the audit and the ECC fraud categories to define the primary measure of fraud in his paper. As above described author first aggregates six categories used by the ECC to trigger an audit into three broader categories:\n",
    "\n",
    "- *Category A* - stations with 600 or more votes cast\n",
    "\n",
    "- *Category B* - stations in which one candidate received 95 percent or more of the total votes cast, and\n",
    "\n",
    "- *Category C* - stations stations satisfying categories *A* and *B* above (look at the Appendix 1 for detailed explanation).\n",
    "\n",
    "Gonzalez defines two fraud outcomes. The first is *(i) Share of votes under Category C*, i.e., the polling-center- level vote share of stations that were under *Category C*. To be more precise, given a polling center *c* with total of *s* stations of which *n < s* qualify as *category C* and it is the measure of fraud at center *c* is given by the total number of votes in the n suspected stations divided by the total votes cast in center *c*. The second is *(ii) an indicator for whether polling center c has at least one diqualified polling station or station which is qualified as Category C*.\n",
    "\n",
    "It is important to note that a station qualifies for one of the categories does not necessarily imply that fraud was committed in this station. For instance, some stations may have unusually high voter turnout rates or unusually strong prefrences for one specific candidate. In that case, this measure can be interpreted as a proxy for fraud. These proxies provide a precise signal on actual fraud given the context and design of the election. This type of measure has been previously used in the economics and cross validated with alternative measures of fraud in the same Afghan context (Weidmann and Callen 2013).\n",
    "\n",
    "Cell phones are the main medium of communication in Afghanistan. Author uses Global System for Mobile communications (GSM) second-generation (2G) coverage maps to determine areas with cell phone coverage. This dataset is directly provided by cell phone operators to the GSM Association (GSMA) and distributed by Collins Bartholomew. The coverage maps indicate the areas receiving 2G coverage based on the spatial distribution of cell phone towers across Afghanistan. Specifically, coverage data are in the form of a map raster or grid file indicating cells where signal strength is at least - 100 decibel-milliwatts (dBm). This is *minimum received signal power* in GSM wireless networks, or roughly speaking, the minimum signal strength needed to be able to make a call (Figueiras and Frattasi 2010)."
   ]
  },
  {
   "cell_type": "code",
   "execution_count": 34,
   "metadata": {},
   "outputs": [
    {
     "ename": "ERROR",
     "evalue": "Error in prepare_content(isbinary, data, file): Either need to specify data or file, but not both\n",
     "output_type": "error",
     "traceback": [
      "Error in prepare_content(isbinary, data, file): Either need to specify data or file, but not both\nTraceback:\n",
      "1. IRdisplay::display_png(file = chosen_image_name, \"D://Term_paper_ME//Initial_Data//18_Afghanistan//Figure3.PNG\")",
      "2. display_raw(\"image/png\", TRUE, data, file, img_metadata(width, \n .     height))",
      "3. prepare_content(isbinary, data, file)",
      "4. stop(\"Either need to specify data or file, but not both\")"
     ]
    }
   ],
   "source": [
    "# I will upload a Figure 3 "
   ]
  },
  {
   "cell_type": "markdown",
   "metadata": {},
   "source": [
    "Figure 3 shows the 2G coverage raster file overlaid on a topographical map of Afghanistan. Shaded areas indicate areas with a signal strength of at least - 100 dBm. Within"
   ]
  },
  {
   "cell_type": "markdown",
   "metadata": {},
   "source": [
    "### 3.2. Characteristics of Polling Centers"
   ]
  },
  {
   "cell_type": "code",
   "execution_count": null,
   "metadata": {},
   "outputs": [],
   "source": []
  },
  {
   "cell_type": "markdown",
   "metadata": {},
   "source": [
    "### 3.3. Regression Discontuinity Design (RDD)"
   ]
  },
  {
   "cell_type": "markdown",
   "metadata": {},
   "source": [
    "Figure 3 shows two main characteristics of cell phone coverage: *(i)* cell phone coverage is a discontinuous function of latitude and longitude, *(ii)* changes from coverage to noncoverage areas define a two-dimensional boundary along the latitude-longitude space."
   ]
  },
  {
   "cell_type": "markdown",
   "metadata": {},
   "source": [
    "### 3.4. Validity of RDD"
   ]
  },
  {
   "cell_type": "code",
   "execution_count": null,
   "metadata": {},
   "outputs": [],
   "source": []
  },
  {
   "cell_type": "code",
   "execution_count": 5,
   "metadata": {
    "scrolled": false
   },
   "outputs": [
    {
     "data": {
      "text/html": [
       "<table>\n",
       "<thead><tr><th scope=col>pccode</th><th scope=col>pccode2010</th><th scope=col>pcname</th><th scope=col>province</th><th scope=col>province_id</th><th scope=col>districtid</th><th scope=col>nvoters</th><th scope=col>totalps_av</th><th scope=col>frnum_v600</th><th scope=col>frnum_p95</th><th scope=col>...</th><th scope=col>x_pc_cat2</th><th scope=col>x_pc_cat3</th><th scope=col>temp_response</th><th scope=col>temp_totalv_pc</th><th scope=col>share_karzai</th><th scope=col>temp_karzai</th><th scope=col>share_abd</th><th scope=col>temp_abd</th><th scope=col>share_others</th><th scope=col>temp_others</th></tr></thead>\n",
       "<tbody>\n",
       "\t<tr><td>101078                                  </td><td>101078                                  </td><td>Zayed Bin Haris.                        </td><td>Kabul                                   </td><td>1                                       </td><td>101                                     </td><td>3400                                    </td><td> 7                                      </td><td>0                                       </td><td>5                                       </td><td>...                                     </td><td>0                                       </td><td>1                                       </td><td>0.3573529                               </td><td>1215                                    </td><td>0.8732510                               </td><td>0.8732510                               </td><td>0.08806584                              </td><td>0.08806584                              </td><td>0.03868313                              </td><td>0.03868313                              </td></tr>\n",
       "\t<tr><td>101498                                  </td><td>101498                                  </td><td>Black 8 Ahamd shah baba female School   </td><td>Kabul                                   </td><td>1                                       </td><td>101                                     </td><td>1200                                    </td><td> 3                                      </td><td>1                                       </td><td>0                                       </td><td>...                                     </td><td>1                                       </td><td>0                                       </td><td>1.3066666                               </td><td>1568                                    </td><td>0.7028061                               </td><td>0.7028061                               </td><td>0.09821428                              </td><td>0.09821428                              </td><td>0.19897959                              </td><td>0.19897959                              </td></tr>\n",
       "\t<tr><td>101186                                  </td><td>101186                                  </td><td>qabil boy,qabil boy high school         </td><td>Kabul                                   </td><td>1                                       </td><td>101                                     </td><td>2700                                    </td><td> 5                                      </td><td>0                                       </td><td>0                                       </td><td>...                                     </td><td>1                                       </td><td>0                                       </td><td>0.5137037                               </td><td>1387                                    </td><td>0.5789474                               </td><td>0.5789474                               </td><td>0.30064887                              </td><td>0.30064887                              </td><td>0.12040375                              </td><td>0.12040375                              </td></tr>\n",
       "\t<tr><td>101176                                  </td><td>101176                                  </td><td>hood khail,hood khail high school       </td><td>Kabul                                   </td><td>1                                       </td><td>101                                     </td><td>5000                                    </td><td> 9                                      </td><td>2                                       </td><td>2                                       </td><td>...                                     </td><td>1                                       </td><td>0                                       </td><td>0.5702000                               </td><td>2851                                    </td><td>0.8589969                               </td><td>0.8589969                               </td><td>0.03928446                              </td><td>0.03928446                              </td><td>0.10171869                              </td><td>0.10171869                              </td></tr>\n",
       "\t<tr><td>101033                                  </td><td>101033                                  </td><td>deh bori,mahmod hotaky high school      </td><td>Kabul                                   </td><td>1                                       </td><td>101                                     </td><td>7200                                    </td><td>12                                      </td><td>0                                       </td><td>0                                       </td><td>...                                     </td><td>1                                       </td><td>0                                       </td><td>0.2366667                               </td><td>1704                                    </td><td>0.4806338                               </td><td>0.4806338                               </td><td>0.23356807                              </td><td>0.23356807                              </td><td>0.28579813                              </td><td>0.28579813                              </td></tr>\n",
       "\t<tr><td>101256                                  </td><td>101256                                  </td><td>behinde oil tank barchi, etiahaad masque</td><td>Kabul                                   </td><td>1                                       </td><td>101                                     </td><td>1500                                    </td><td> 3                                      </td><td>0                                       </td><td>0                                       </td><td>...                                     </td><td>0                                       </td><td>0                                       </td><td>0.9380000                               </td><td>1407                                    </td><td>0.3631841                               </td><td>0.3631841                               </td><td>0.03198294                              </td><td>0.03198294                              </td><td>0.60483301                              </td><td>0.60483301                              </td></tr>\n",
       "</tbody>\n",
       "</table>\n"
      ],
      "text/latex": [
       "\\begin{tabular}{r|llllllllllllllllllllllllllllllllllllllllllllllllllllllllllllllllllllllllllllllllllllllllllllllllllllllllllllllllllllll}\n",
       " pccode & pccode2010 & pcname & province & province\\_id & districtid & nvoters & totalps\\_av & frnum\\_v600 & frnum\\_p95 & ... & x\\_pc\\_cat2 & x\\_pc\\_cat3 & temp\\_response & temp\\_totalv\\_pc & share\\_karzai & temp\\_karzai & share\\_abd & temp\\_abd & share\\_others & temp\\_others\\\\\n",
       "\\hline\n",
       "\t 101078                                   & 101078                                   & Zayed Bin Haris.                         & Kabul                                    & 1                                        & 101                                      & 3400                                     &  7                                       & 0                                        & 5                                        & ...                                      & 0                                        & 1                                        & 0.3573529                                & 1215                                     & 0.8732510                                & 0.8732510                                & 0.08806584                               & 0.08806584                               & 0.03868313                               & 0.03868313                              \\\\\n",
       "\t 101498                                   & 101498                                   & Black 8 Ahamd shah baba female School    & Kabul                                    & 1                                        & 101                                      & 1200                                     &  3                                       & 1                                        & 0                                        & ...                                      & 1                                        & 0                                        & 1.3066666                                & 1568                                     & 0.7028061                                & 0.7028061                                & 0.09821428                               & 0.09821428                               & 0.19897959                               & 0.19897959                              \\\\\n",
       "\t 101186                                   & 101186                                   & qabil boy,qabil boy high school          & Kabul                                    & 1                                        & 101                                      & 2700                                     &  5                                       & 0                                        & 0                                        & ...                                      & 1                                        & 0                                        & 0.5137037                                & 1387                                     & 0.5789474                                & 0.5789474                                & 0.30064887                               & 0.30064887                               & 0.12040375                               & 0.12040375                              \\\\\n",
       "\t 101176                                   & 101176                                   & hood khail,hood khail high school        & Kabul                                    & 1                                        & 101                                      & 5000                                     &  9                                       & 2                                        & 2                                        & ...                                      & 1                                        & 0                                        & 0.5702000                                & 2851                                     & 0.8589969                                & 0.8589969                                & 0.03928446                               & 0.03928446                               & 0.10171869                               & 0.10171869                              \\\\\n",
       "\t 101033                                   & 101033                                   & deh bori,mahmod hotaky high school       & Kabul                                    & 1                                        & 101                                      & 7200                                     & 12                                       & 0                                        & 0                                        & ...                                      & 1                                        & 0                                        & 0.2366667                                & 1704                                     & 0.4806338                                & 0.4806338                                & 0.23356807                               & 0.23356807                               & 0.28579813                               & 0.28579813                              \\\\\n",
       "\t 101256                                   & 101256                                   & behinde oil tank barchi, etiahaad masque & Kabul                                    & 1                                        & 101                                      & 1500                                     &  3                                       & 0                                        & 0                                        & ...                                      & 0                                        & 0                                        & 0.9380000                                & 1407                                     & 0.3631841                                & 0.3631841                                & 0.03198294                               & 0.03198294                               & 0.60483301                               & 0.60483301                              \\\\\n",
       "\\end{tabular}\n"
      ],
      "text/markdown": [
       "\n",
       "| pccode | pccode2010 | pcname | province | province_id | districtid | nvoters | totalps_av | frnum_v600 | frnum_p95 | ... | x_pc_cat2 | x_pc_cat3 | temp_response | temp_totalv_pc | share_karzai | temp_karzai | share_abd | temp_abd | share_others | temp_others |\n",
       "|---|---|---|---|---|---|---|---|---|---|---|---|---|---|---|---|---|---|---|---|---|\n",
       "| 101078                                   | 101078                                   | Zayed Bin Haris.                         | Kabul                                    | 1                                        | 101                                      | 3400                                     |  7                                       | 0                                        | 5                                        | ...                                      | 0                                        | 1                                        | 0.3573529                                | 1215                                     | 0.8732510                                | 0.8732510                                | 0.08806584                               | 0.08806584                               | 0.03868313                               | 0.03868313                               |\n",
       "| 101498                                   | 101498                                   | Black 8 Ahamd shah baba female School    | Kabul                                    | 1                                        | 101                                      | 1200                                     |  3                                       | 1                                        | 0                                        | ...                                      | 1                                        | 0                                        | 1.3066666                                | 1568                                     | 0.7028061                                | 0.7028061                                | 0.09821428                               | 0.09821428                               | 0.19897959                               | 0.19897959                               |\n",
       "| 101186                                   | 101186                                   | qabil boy,qabil boy high school          | Kabul                                    | 1                                        | 101                                      | 2700                                     |  5                                       | 0                                        | 0                                        | ...                                      | 1                                        | 0                                        | 0.5137037                                | 1387                                     | 0.5789474                                | 0.5789474                                | 0.30064887                               | 0.30064887                               | 0.12040375                               | 0.12040375                               |\n",
       "| 101176                                   | 101176                                   | hood khail,hood khail high school        | Kabul                                    | 1                                        | 101                                      | 5000                                     |  9                                       | 2                                        | 2                                        | ...                                      | 1                                        | 0                                        | 0.5702000                                | 2851                                     | 0.8589969                                | 0.8589969                                | 0.03928446                               | 0.03928446                               | 0.10171869                               | 0.10171869                               |\n",
       "| 101033                                   | 101033                                   | deh bori,mahmod hotaky high school       | Kabul                                    | 1                                        | 101                                      | 7200                                     | 12                                       | 0                                        | 0                                        | ...                                      | 1                                        | 0                                        | 0.2366667                                | 1704                                     | 0.4806338                                | 0.4806338                                | 0.23356807                               | 0.23356807                               | 0.28579813                               | 0.28579813                               |\n",
       "| 101256                                   | 101256                                   | behinde oil tank barchi, etiahaad masque | Kabul                                    | 1                                        | 101                                      | 1500                                     |  3                                       | 0                                        | 0                                        | ...                                      | 0                                        | 0                                        | 0.9380000                                | 1407                                     | 0.3631841                                | 0.3631841                                | 0.03198294                               | 0.03198294                               | 0.60483301                               | 0.60483301                               |\n",
       "\n"
      ],
      "text/plain": [
       "  pccode pccode2010 pcname                                   province\n",
       "1 101078 101078     Zayed Bin Haris.                         Kabul   \n",
       "2 101498 101498     Black 8 Ahamd shah baba female School    Kabul   \n",
       "3 101186 101186     qabil boy,qabil boy high school          Kabul   \n",
       "4 101176 101176     hood khail,hood khail high school        Kabul   \n",
       "5 101033 101033     deh bori,mahmod hotaky high school       Kabul   \n",
       "6 101256 101256     behinde oil tank barchi, etiahaad masque Kabul   \n",
       "  province_id districtid nvoters totalps_av frnum_v600 frnum_p95 ... x_pc_cat2\n",
       "1 1           101        3400     7         0          5         ... 0        \n",
       "2 1           101        1200     3         1          0         ... 1        \n",
       "3 1           101        2700     5         0          0         ... 1        \n",
       "4 1           101        5000     9         2          2         ... 1        \n",
       "5 1           101        7200    12         0          0         ... 1        \n",
       "6 1           101        1500     3         0          0         ... 0        \n",
       "  x_pc_cat3 temp_response temp_totalv_pc share_karzai temp_karzai share_abd \n",
       "1 1         0.3573529     1215           0.8732510    0.8732510   0.08806584\n",
       "2 0         1.3066666     1568           0.7028061    0.7028061   0.09821428\n",
       "3 0         0.5137037     1387           0.5789474    0.5789474   0.30064887\n",
       "4 0         0.5702000     2851           0.8589969    0.8589969   0.03928446\n",
       "5 0         0.2366667     1704           0.4806338    0.4806338   0.23356807\n",
       "6 0         0.9380000     1407           0.3631841    0.3631841   0.03198294\n",
       "  temp_abd   share_others temp_others\n",
       "1 0.08806584 0.03868313   0.03868313 \n",
       "2 0.09821428 0.19897959   0.19897959 \n",
       "3 0.30064887 0.12040375   0.12040375 \n",
       "4 0.03928446 0.10171869   0.10171869 \n",
       "5 0.23356807 0.28579813   0.28579813 \n",
       "6 0.03198294 0.60483301   0.60483301 "
      ]
     },
     "metadata": {},
     "output_type": "display_data"
    }
   ],
   "source": [
    "votedata <- read_dta(\"D://Term_paper_ME//Initial_Data//18_Afghanistan//fraud_pcenter_final.dta\")\n",
    "head(votedata)"
   ]
  },
  {
   "cell_type": "markdown",
   "metadata": {},
   "source": [
    "# 4. Results"
   ]
  },
  {
   "cell_type": "markdown",
   "metadata": {},
   "source": [
    "# 5. Extentions"
   ]
  },
  {
   "cell_type": "markdown",
   "metadata": {},
   "source": [
    "# 6. Further Research Directions on the Effect of Cell Phone Coverage on Election Fraud in Afghanistan"
   ]
  },
  {
   "cell_type": "markdown",
   "metadata": {},
   "source": [
    "According to the data availabilty, this research might be further studied in the future. It could be nice to take into account the education level of population. This can solve two potential problems *(i)* citizens who are from the cell phone coverage areas cannot report about the breaking the election rules due to not knowing how to use a phone *(ii)* some citizens may not know how to properly fill polling ballots. \n",
    "\n",
    "One more thing about the coverage area is that cell phone coverage doesn't mean citiznes who are from coverage area have cell phones which they can call to report about the irrugelarities of polling process."
   ]
  },
  {
   "cell_type": "markdown",
   "metadata": {},
   "source": [
    "# 7. Conclusion"
   ]
  },
  {
   "cell_type": "markdown",
   "metadata": {},
   "source": [
    "# Appendix"
   ]
  },
  {
   "cell_type": "markdown",
   "metadata": {},
   "source": [
    "### Appendix 1"
   ]
  },
  {
   "cell_type": "markdown",
   "metadata": {},
   "source": [
    "In its final report of the 2009 election (Electoral Complaints Commission, 2010), the ECC reported that after receiving an increasing number of complaints on ballot stuffing and other irregularities, they decided on September 8, 2009 to conduct an audit of polling stations nationwide. To this end, they ordered the IEC to conduct an audit and recount of stations satisfying the following criteria:\n",
    "\n",
    "• A1: Stations in which 600 or more valid votes were cast\n",
    "\n",
    "• B1: Stations with more than 100 votes in which one candidate received 95 percent or more of the total votes cast\n",
    "\n",
    "• C1: Stations satisfying both A1 and B1\n",
    "\n",
    "After the initial samples were drawn, however, three additional categories were created due to a misunderstanding of the ECC orders by the IEC. The three new categories expanded the scope of the audit. The categories were:\n",
    "\n",
    "• A2: Stations with 600 or more votes cast (Excluding those in A1)\n",
    "\n",
    "• B2: Stations in which a candidate received 95 percent or more of the total valid votes cast (Excluding those in B1)\n",
    "\n",
    "• C2: Stations satisfying both A2 and B2\n",
    "\n",
    "After the audit process, the IEC reported that 3,376 stations classified in at least one of these categories. Out of this sample, the ECC and IEC investigated 10 percent of the ballots within each category. Some of the physical indicators used to determine fraud were whether the ballot box was tampered, all required materials were included, visual inspection of the ballots, reviews of the tally results and the actual ballot counts, among others. For the purpose of this study I aggregate the\n",
    "six categories described above into three broader categories:\n",
    "\n",
    "• Category A: Stations with 600 or more votes cast. Defined as A1+A2+C1+C2 from the categories above.\n",
    "\n",
    "• Category B: Stations in which one candidate received 95 percent or more of the total votes cast. Defined as B1+B2+C1+C2\n",
    "\n",
    "• Category C: Stations satisfying Categories A and B above. Defined as C1+C2.\n",
    "\n",
    "The number of polling stations within each category is 1,706 in category A (545 from A1 + 299 from A2 + 741 from C1 + 121 from C2), 2,532 in category B (1269 from B1 + 401 from B2 + 741 from C1 + 121 from C2), and 862 in category C (741 from C1 + 121 from C2)."
   ]
  },
  {
   "cell_type": "markdown",
   "metadata": {},
   "source": [
    "# Bibliography"
   ]
  },
  {
   "cell_type": "code",
   "execution_count": null,
   "metadata": {},
   "outputs": [],
   "source": []
  }
 ],
 "metadata": {
  "kernelspec": {
   "display_name": "R",
   "language": "R",
   "name": "ir"
  },
  "language_info": {
   "codemirror_mode": "r",
   "file_extension": ".r",
   "mimetype": "text/x-r-source",
   "name": "R",
   "pygments_lexer": "r",
   "version": "3.6.1"
  }
 },
 "nbformat": 4,
 "nbformat_minor": 4
}
